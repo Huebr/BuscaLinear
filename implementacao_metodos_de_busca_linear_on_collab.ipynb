{
  "nbformat": 4,
  "nbformat_minor": 0,
  "metadata": {
    "accelerator": "GPU",
    "colab": {
      "name": "implementacao_metodos_de_busca_linear_on_collab.ipynb",
      "provenance": [],
      "collapsed_sections": [],
      "include_colab_link": true
    },
    "kernelspec": {
      "display_name": "Julia 1.4",
      "language": "julia",
      "name": "julia-1.4"
    },
    "language_info": {
      "file_extension": ".jl",
      "mimetype": "application/julia",
      "name": "julia",
      "version": "1.4.2"
    }
  },
  "cells": [
    {
      "cell_type": "markdown",
      "metadata": {
        "id": "view-in-github",
        "colab_type": "text"
      },
      "source": [
        "<a href=\"https://colab.research.google.com/github/Huebr/BuscaLinear/blob/master/implementacao_metodos_de_busca_linear_on_collab.ipynb\" target=\"_parent\"><img src=\"https://colab.research.google.com/assets/colab-badge.svg\" alt=\"Open In Colab\"/></a>"
      ]
    },
    {
      "cell_type": "code",
      "metadata": {
        "colab_type": "code",
        "id": "PMGwZ7aFJL8Y",
        "colab": {
          "base_uri": "https://localhost:8080/",
          "height": 634
        },
        "outputId": "bfb503d5-133d-4d84-e68e-457087d1d30b"
      },
      "source": [
        "# Installation cell\n",
        "%%shell\n",
        "if ! command -v julia 3>&1 > /dev/null\n",
        "then\n",
        "    wget 'https://julialang-s3.julialang.org/bin/linux/x64/1.4/julia-1.4.2-linux-x86_64.tar.gz' \\\n",
        "        -O /tmp/julia.tar.gz\n",
        "    tar -x -f /tmp/julia.tar.gz -C /usr/local --strip-components 1\n",
        "    rm /tmp/julia.tar.gz\n",
        "fi\n",
        "julia -e 'using Pkg; pkg\"add IJulia; precompile;\"'\n",
        "echo 'Done'"
      ],
      "execution_count": null,
      "outputs": [
        {
          "output_type": "stream",
          "text": [
            "--2020-09-11 12:11:44--  https://julialang-s3.julialang.org/bin/linux/x64/1.4/julia-1.4.2-linux-x86_64.tar.gz\n",
            "Resolving julialang-s3.julialang.org (julialang-s3.julialang.org)... 151.101.2.49, 151.101.66.49, 151.101.130.49, ...\n",
            "Connecting to julialang-s3.julialang.org (julialang-s3.julialang.org)|151.101.2.49|:443... connected.\n",
            "HTTP request sent, awaiting response... 302 gce internal redirect trigger\n",
            "Location: https://storage.googleapis.com/julialang2/bin/linux/x64/1.4/julia-1.4.2-linux-x86_64.tar.gz [following]\n",
            "--2020-09-11 12:11:44--  https://storage.googleapis.com/julialang2/bin/linux/x64/1.4/julia-1.4.2-linux-x86_64.tar.gz\n",
            "Resolving storage.googleapis.com (storage.googleapis.com)... 74.125.143.128, 173.194.79.128, 108.177.119.128, ...\n",
            "Connecting to storage.googleapis.com (storage.googleapis.com)|74.125.143.128|:443... connected.\n",
            "HTTP request sent, awaiting response... 200 OK\n",
            "Length: 99093958 (95M) [application/x-tar]\n",
            "Saving to: ‘/tmp/julia.tar.gz’\n",
            "\n",
            "/tmp/julia.tar.gz   100%[===================>]  94.50M  34.4MB/s    in 2.7s    \n",
            "\n",
            "2020-09-11 12:11:48 (34.4 MB/s) - ‘/tmp/julia.tar.gz’ saved [99093958/99093958]\n",
            "\n",
            "    Cloning default registries into `~/.julia`\n",
            "    Cloning registry from \"https://github.com/JuliaRegistries/General.git\"\n",
            "\u001b[2K\u001b[?25h      Added registry `General` to `~/.julia/registries/General`\n",
            "  Resolving package versions...\n",
            "  Installed VersionParsing ── v1.2.0\n",
            "  Installed MbedTLS_jll ───── v2.16.8+0\n",
            "  Installed ZeroMQ_jll ────── v4.3.2+4\n",
            "  Installed Parsers ───────── v1.0.10\n",
            "  Installed Conda ─────────── v1.4.1\n",
            "  Installed IJulia ────────── v1.21.3\n",
            "  Installed JSON ──────────── v0.21.1\n",
            "  Installed SoftGlobalScope ─ v1.1.0\n",
            "  Installed MbedTLS ───────── v1.0.2\n",
            "  Installed ZMQ ───────────── v1.2.1\n",
            "Downloading artifact: MbedTLS\n",
            "######################################################################## 100.0%\n"
          ],
          "name": "stdout"
        }
      ]
    },
    {
      "cell_type": "code",
      "metadata": {
        "colab_type": "code",
        "id": "iIxu4TjlJnBG",
        "colab": {
          "base_uri": "https://localhost:8080/",
          "height": 1000
        },
        "outputId": "c335ed0a-9737-4209-dc22-e616aa3770ce"
      },
      "source": [
        "#Julia 1.4 Environment\n",
        "using Pkg\n",
        "pkg\"add ForwardDiff; precompile;\"\n",
        "pkg\"add Plots; precompile;\"\n",
        "pkg\"add PyPlot; precompile;\""
      ],
      "execution_count": null,
      "outputs": [
        {
          "output_type": "stream",
          "text": [
            "\u001b[32m\u001b[1m  Resolving\u001b[22m\u001b[39m package versions...\n",
            "\u001b[32m\u001b[1m  Installed\u001b[22m\u001b[39m DiffResults ────────────────── v1.0.2\n",
            "\u001b[32m\u001b[1m  Installed\u001b[22m\u001b[39m ForwardDiff ────────────────── v0.10.12\n",
            "\u001b[32m\u001b[1m  Installed\u001b[22m\u001b[39m DiffRules ──────────────────── v1.0.1\n",
            "\u001b[32m\u001b[1m  Installed\u001b[22m\u001b[39m CommonSubexpressions ───────── v0.3.0\n",
            "\u001b[32m\u001b[1m  Installed\u001b[22m\u001b[39m CompilerSupportLibraries_jll ─ v0.3.3+0\n",
            "\u001b[32m\u001b[1m  Installed\u001b[22m\u001b[39m OpenSpecFun_jll ────────────── v0.5.3+3\n",
            "\u001b[32m\u001b[1m  Installed\u001b[22m\u001b[39m SpecialFunctions ───────────── v0.10.3\n",
            "#=#=#                                                                          \r\r######################################################################### 100.0%##O#- #                                                                        \r\r#####                                                                       7.0%\r#####################                                                      29.3%\r###########################################################                81.6%\r######################################################################### 100.0%\n",
            "#=#=#                                                                          \r\r######################################################################### 100.0%##O#- #                                                                        \r##=O#- #                                                                       \r\r                                                                            0.1%\r                                                                            0.3%\r                                                                            1.2%\r###                                                                         4.9%\r##############                                                             19.7%\r###################################                                        48.5%\r#################################################                          67.6%\r#######################################################################    97.8%\r######################################################################### 100.0%\n",
            "\u001b[32m\u001b[1m   Updating\u001b[22m\u001b[39m `~/.julia/environments/v1.4/Project.toml`\n",
            " \u001b[90m [f6369f11]\u001b[39m\u001b[92m + ForwardDiff v0.10.12\u001b[39m\n",
            "\u001b[32m\u001b[1m   Updating\u001b[22m\u001b[39m `~/.julia/environments/v1.4/Manifest.toml`\n",
            " \u001b[90m [bbf7d656]\u001b[39m\u001b[92m + CommonSubexpressions v0.3.0\u001b[39m\n",
            " \u001b[90m [e66e0078]\u001b[39m\u001b[92m + CompilerSupportLibraries_jll v0.3.3+0\u001b[39m\n",
            " \u001b[90m [163ba53b]\u001b[39m\u001b[92m + DiffResults v1.0.2\u001b[39m\n",
            " \u001b[90m [b552c78f]\u001b[39m\u001b[92m + DiffRules v1.0.1\u001b[39m\n",
            " \u001b[90m [f6369f11]\u001b[39m\u001b[92m + ForwardDiff v0.10.12\u001b[39m\n",
            " \u001b[90m [77ba4419]\u001b[39m\u001b[92m + NaNMath v0.3.4\u001b[39m\n",
            " \u001b[90m [efe28fd5]\u001b[39m\u001b[92m + OpenSpecFun_jll v0.5.3+3\u001b[39m\n",
            " \u001b[90m [276daf66]\u001b[39m\u001b[92m + SpecialFunctions v0.10.3\u001b[39m\n",
            " \u001b[90m [90137ffa]\u001b[39m\u001b[92m + StaticArrays v0.12.4\u001b[39m\n",
            "\u001b[32m\u001b[1mPrecompiling\u001b[22m\u001b[39m project...\n",
            "┌ Info: Precompiling ForwardDiff [f6369f11-7733-5829-9624-2563aa707210]\n",
            "└ @ Base loading.jl:1260\n",
            "\u001b[32m\u001b[1m  Resolving\u001b[22m\u001b[39m package versions...\n",
            "\r######################################################################### 100.0%#=#=#                                                                          \r\r                                                                            1.1%\r##                                                                          4.1%\r############                                                               16.9%\r#################################################                          67.3%\r######################################################################### 100.0%\n",
            "#=#=#                                                                          \r\r######################################################################### 100.0%##O#- #                                                                        \r##=O#- #                                                                       \r\r                                                                            0.1%\r                                                                            0.5%\r#                                                                           2.4%\r#######                                                                     9.7%\r###########################                                                38.0%\r###############################################################            86.6%\r######################################################################### 100.0%\n",
            "#=#=#                                                                          \r\r######################################################################### 100.0%##O#- #                                                                        \r##=O#- #                                                                       \r\r                                                                            1.1%\r###                                                                         4.7%\r#############                                                              17.9%\r###################################################                        70.8%\r######################################################################### 100.0%\n",
            "#=#=#                                                                          \r\r######################################################################### 100.0%##O#- #                                                                        \r\r                                                                            0.8%\r#                                                                           2.5%\r######                                                                      9.3%\r###########################                                                38.2%\r######################################################################### 100.0%\n",
            "#=#=#                                                                          \r\r######################################################################### 100.0%##O#- #                                                                        \r\r                                                                            0.4%\r#                                                                           1.6%\r####                                                                        6.1%\r#################                                                          23.7%\r####################################################################       94.3%\r######################################################################### 100.0%\n",
            "#=#=#                                                                          \r\r######################################################################### 100.0%##O#- #                                                                        \r\r##                                                                          3.2%\r#######                                                                    10.0%\r##################################                                         46.8%\r######################################################################### 100.0%\n",
            "#=#=#                                                                          \r\r######################################################################### 100.0%##O#- #                                                                        \r\r##############                                                             19.6%\r####################################################                       72.3%\r######################################################################### 100.0%\n",
            "#=#=#                                                                          \r\r######################################################################### 100.0%##O#- #                                                                        \r\r#                                                                           1.7%\r#####                                                                       7.2%\r##################                                                         25.6%\r#############################################################              84.5%\r######################################################################### 100.0%\n",
            "#=#=#                                                                          \r\r######################################################################### 100.0%##O#- #                                                                        \r\r#                                                                           1.5%\r####                                                                        6.3%\r#################                                                          24.1%\r################################################################           88.6%\r######################################################################### 100.0%\n",
            "######################################################################### 100.0%\n",
            "######################################################################### 100.0%\n",
            "######################################################################### 100.0%\n",
            "######################################################################### 100.0%\n",
            "######################################################################### 100.0%\n",
            "######################################################################### 100.0%\n",
            "\u001b[32m\u001b[1m   Updating\u001b[22m\u001b[39m `~/.julia/environments/v1.4/Project.toml`\n",
            " \u001b[90m [91a5bcdd]\u001b[39m\u001b[92m + Plots v1.6.3\u001b[39m\n",
            "\u001b[32m\u001b[1m   Updating\u001b[22m\u001b[39m `~/.julia/environments/v1.4/Manifest.toml`\n",
            " \u001b[90m [6e34b625]\u001b[39m\u001b[92m + Bzip2_jll v1.0.6+4\u001b[39m\n",
            " \u001b[90m [35d6a980]\u001b[39m\u001b[92m + ColorSchemes v3.9.0\u001b[39m\n",
            " \u001b[90m [3da002f7]\u001b[39m\u001b[92m + ColorTypes v0.10.9\u001b[39m\n",
            " \u001b[90m [5ae59095]\u001b[39m\u001b[92m + Colors v0.12.4\u001b[39m\n",
            " \u001b[90m [d38c429a]\u001b[39m\u001b[92m + Contour v0.5.5\u001b[39m\n",
            " \u001b[90m [9a962f9c]\u001b[39m\u001b[92m + DataAPI v1.3.0\u001b[39m\n",
            " \u001b[90m [e2d170a0]\u001b[39m\u001b[92m + DataValueInterfaces v1.0.0\u001b[39m\n",
            " \u001b[90m [c87230d0]\u001b[39m\u001b[92m + FFMPEG v0.4.0\u001b[39m\n",
            " \u001b[90m [b22a6f82]\u001b[39m\u001b[92m + FFMPEG_jll v4.3.1+2\u001b[39m\n",
            " \u001b[90m [53c48c17]\u001b[39m\u001b[92m + FixedPointNumbers v0.8.4\u001b[39m\n",
            " \u001b[90m [d7e528f0]\u001b[39m\u001b[92m + FreeType2_jll v2.10.1+4\u001b[39m\n",
            " \u001b[90m [559328eb]\u001b[39m\u001b[92m + FriBidi_jll v1.0.5+5\u001b[39m\n",
            " \u001b[90m [28b8d3ca]\u001b[39m\u001b[92m + GR v0.52.0\u001b[39m\n",
            " \u001b[90m [5c1252a2]\u001b[39m\u001b[92m + GeometryBasics v0.2.15\u001b[39m\n",
            " \u001b[90m [4d00f742]\u001b[39m\u001b[92m + GeometryTypes v0.8.3\u001b[39m\n",
            " \u001b[90m [cd3eb016]\u001b[39m\u001b[92m + HTTP v0.8.17\u001b[39m\n",
            " \u001b[90m [83e8ac13]\u001b[39m\u001b[92m + IniFile v0.5.0\u001b[39m\n",
            " \u001b[90m [c8e1da08]\u001b[39m\u001b[92m + IterTools v1.3.0\u001b[39m\n",
            " \u001b[90m [82899510]\u001b[39m\u001b[92m + IteratorInterfaceExtensions v1.0.0\u001b[39m\n",
            " \u001b[90m [c1c5ebd0]\u001b[39m\u001b[92m + LAME_jll v3.100.0+2\u001b[39m\n",
            " \u001b[90m [dd192d2f]\u001b[39m\u001b[92m + LibVPX_jll v1.9.0+0\u001b[39m\n",
            " \u001b[90m [442fdcdd]\u001b[39m\u001b[92m + Measures v0.3.1\u001b[39m\n",
            " \u001b[90m [e1d29d7a]\u001b[39m\u001b[92m + Missings v0.4.4\u001b[39m\n",
            " \u001b[90m [e7412a2a]\u001b[39m\u001b[92m + Ogg_jll v1.3.4+1\u001b[39m\n",
            " \u001b[90m [458c3c95]\u001b[39m\u001b[92m + OpenSSL_jll v1.1.1+5\u001b[39m\n",
            " \u001b[90m [91d4177d]\u001b[39m\u001b[92m + Opus_jll v1.3.1+2\u001b[39m\n",
            " \u001b[90m [ccf2f8ad]\u001b[39m\u001b[92m + PlotThemes v2.0.0\u001b[39m\n",
            " \u001b[90m [995b91a9]\u001b[39m\u001b[92m + PlotUtils v1.0.6\u001b[39m\n",
            " \u001b[90m [91a5bcdd]\u001b[39m\u001b[92m + Plots v1.6.3\u001b[39m\n",
            " \u001b[90m [3cdcf5f2]\u001b[39m\u001b[92m + RecipesBase v1.1.0\u001b[39m\n",
            " \u001b[90m [01d81517]\u001b[39m\u001b[92m + RecipesPipeline v0.1.13\u001b[39m\n",
            " \u001b[90m [992d4aef]\u001b[39m\u001b[92m + Showoff v0.3.1\u001b[39m\n",
            " \u001b[90m [a2af1166]\u001b[39m\u001b[92m + SortingAlgorithms v0.3.1\u001b[39m\n",
            " \u001b[90m [2913bbd2]\u001b[39m\u001b[92m + StatsBase v0.33.1\u001b[39m\n",
            " \u001b[90m [09ab397b]\u001b[39m\u001b[92m + StructArrays v0.4.4\u001b[39m\n",
            " \u001b[90m [3783bdb8]\u001b[39m\u001b[92m + TableTraits v1.0.0\u001b[39m\n",
            " \u001b[90m [bd369af6]\u001b[39m\u001b[92m + Tables v1.0.5\u001b[39m\n",
            " \u001b[90m [83775a58]\u001b[39m\u001b[92m + Zlib_jll v1.2.11+16\u001b[39m\n",
            " \u001b[90m [0ac62f75]\u001b[39m\u001b[92m + libass_jll v0.14.0+3\u001b[39m\n",
            " \u001b[90m [f638f0a6]\u001b[39m\u001b[92m + libfdk_aac_jll v0.1.6+3\u001b[39m\n",
            " \u001b[90m [f27f6e37]\u001b[39m\u001b[92m + libvorbis_jll v1.3.6+5\u001b[39m\n",
            " \u001b[90m [1270edf5]\u001b[39m\u001b[92m + x264_jll v2020.7.14+1\u001b[39m\n",
            " \u001b[90m [dfaa095f]\u001b[39m\u001b[92m + x265_jll v3.0.0+2\u001b[39m\n",
            " \u001b[90m [8bb1440f]\u001b[39m\u001b[92m + DelimitedFiles \u001b[39m\n",
            "\u001b[32m\u001b[1mPrecompiling\u001b[22m\u001b[39m project...\n",
            "┌ Info: Precompiling Plots [91a5bcdd-55d7-5caf-9e0b-520d859cae80]\n",
            "└ @ Base loading.jl:1260\n",
            "\u001b[32m\u001b[1m  Resolving\u001b[22m\u001b[39m package versions...\n",
            "\u001b[32m\u001b[1m  Installed\u001b[22m\u001b[39m LaTeXStrings ─ v1.1.0\n",
            "\u001b[32m\u001b[1m  Installed\u001b[22m\u001b[39m PyPlot ─────── v2.9.0\n",
            "\u001b[32m\u001b[1m  Installed\u001b[22m\u001b[39m PyCall ─────── v1.91.4\n",
            "\u001b[32m\u001b[1m   Updating\u001b[22m\u001b[39m `~/.julia/environments/v1.4/Project.toml`\n",
            " \u001b[90m [d330b81b]\u001b[39m\u001b[92m + PyPlot v2.9.0\u001b[39m\n",
            "\u001b[32m\u001b[1m   Updating\u001b[22m\u001b[39m `~/.julia/environments/v1.4/Manifest.toml`\n",
            " \u001b[90m [b964fa9f]\u001b[39m\u001b[92m + LaTeXStrings v1.1.0\u001b[39m\n",
            " \u001b[90m [438e738f]\u001b[39m\u001b[92m + PyCall v1.91.4\u001b[39m\n",
            " \u001b[90m [d330b81b]\u001b[39m\u001b[92m + PyPlot v2.9.0\u001b[39m\n",
            "\u001b[32m\u001b[1m   Building\u001b[22m\u001b[39m PyCall → `~/.julia/packages/PyCall/zqDXB/deps/build.log`\n",
            "\u001b[32m\u001b[1mPrecompiling\u001b[22m\u001b[39m project...\n",
            "┌ Info: Precompiling PyPlot [d330b81b-6aea-500a-939a-2ce795aea3ee]\n",
            "└ @ Base loading.jl:1260\n"
          ],
          "name": "stderr"
        }
      ]
    },
    {
      "cell_type": "markdown",
      "metadata": {
        "id": "T2jY7F2-FyYl",
        "colab_type": "text"
      },
      "source": [
        "<h1>Método Principal</h1>"
      ]
    },
    {
      "cell_type": "code",
      "metadata": {
        "id": "IP5pYzJKAwOX",
        "colab_type": "code",
        "colab": {
          "base_uri": "https://localhost:8080/",
          "height": 35
        },
        "outputId": "a47751af-5a42-413c-d7f0-940ce24dc993"
      },
      "source": [
        "#função de busca linear\n",
        "function linear_search(f::Function,x::Vector,d::Vector,method::Function)\n",
        "    ϕ = t->f(x+t*d)\n",
        "    α = method(f,x,d)\n",
        "    return (ϕ(α),x+α*d)\n",
        "end"
      ],
      "execution_count": null,
      "outputs": [
        {
          "output_type": "execute_result",
          "data": {
            "text/plain": [
              "linear_search (generic function with 1 method)"
            ]
          },
          "metadata": {
            "tags": []
          },
          "execution_count": 14
        }
      ]
    },
    {
      "cell_type": "markdown",
      "metadata": {
        "id": "aecu6riwGAq7",
        "colab_type": "text"
      },
      "source": [
        "<h1>Funções Auxiliares</h1>"
      ]
    },
    {
      "cell_type": "code",
      "metadata": {
        "id": "7P2YdS1wGDhs",
        "colab_type": "code",
        "colab": {
          "base_uri": "https://localhost:8080/",
          "height": 35
        },
        "outputId": "077c779f-9ffe-4ebb-9e13-26fb80fe2183"
      },
      "source": [
        "import ForwardDiff  # calcula derivadas usando automatic differentiation in forward mode\n",
        "using LinearAlgebra #adiciona operações de algebra linear\n",
        "using Plots\n",
        "\n",
        "pyplot()#usa PyPlot como backend engine\n",
        "∇ = (h,x)->ForwardDiff.gradient(h,x) #gradiente de h(x)\n",
        "Hessian = (h,x)->ForwardDiff.hessian(h,x) # hessian de h(x)\n",
        "Df = (h,x)->ForwardDiff.derivative(h,x);  # primeira derivada de h'(x)\n",
        "D_2f = (h,x)->ForwardDiff.derivative(z->ForwardDiff.derivative(h,z),x) # segunda derivada h\"(x)"
      ],
      "execution_count": null,
      "outputs": [
        {
          "output_type": "execute_result",
          "data": {
            "text/plain": [
              "#55 (generic function with 1 method)"
            ]
          },
          "metadata": {
            "tags": []
          },
          "execution_count": 15
        }
      ]
    },
    {
      "cell_type": "markdown",
      "metadata": {
        "id": "EMsLEH68GGRe",
        "colab_type": "text"
      },
      "source": [
        "<h1>Método da Seção Áurea</h1>"
      ]
    },
    {
      "cell_type": "code",
      "metadata": {
        "id": "2gRkMFQeGLlR",
        "colab_type": "code",
        "colab": {
          "base_uri": "https://localhost:8080/",
          "height": 35
        },
        "outputId": "dec6dfcd-4b7c-4f9c-b92f-3d3268c4808e"
      },
      "source": [
        "function secao_aurea(f::Function,x::Vector,d::Vector;φ::Function = t->f(x+t*d),ρ = 1/2,ϵ = 1e-9)::Float64\n",
        "    θ_1 = (3 - sqrt(5))/2.0\n",
        "    θ_2 = (sqrt(5) - 1)/2.0\n",
        "    #Obtenção intervalo\n",
        "    a=0\n",
        "    b=2*ρ\n",
        "    s = b / 2\n",
        "    while(φ(b)<φ(s))\n",
        "        a = s\n",
        "        s = b\n",
        "        b *= 2\n",
        "    end\n",
        "    #Obtenção de t\n",
        "    u = a + θ_1*(b - a)\n",
        "    v = a + θ_2*(b - a)\n",
        "    iter=0\n",
        "    while(b - a > ϵ)\n",
        "        if(φ(u)<φ(v))\n",
        "            b = v\n",
        "            v = u\n",
        "            u = a + θ_1*(b - a)\n",
        "        else\n",
        "            a = u\n",
        "            u = v\n",
        "            v = a + θ_2*(b - a)\n",
        "        end\n",
        "    end\n",
        "    return (u+v)/2\n",
        "end\n",
        "\n",
        "function secao_aurea(f::Function,x::Vector,d::Vector,(a,b)::Tuple{Float64,Float64};φ::Function = t->f(x+t*d),ρ = 1/2,ϵ = 1e-9)::Float64\n",
        "    θ_1 = (3 - sqrt(5))/2.0\n",
        "    θ_2 = (sqrt(5) - 1)/2.0\n",
        "    #Obtenção de t\n",
        "    u = a + θ_1*(b - a)\n",
        "    v = a + θ_2*(b - a)\n",
        "    while(b - a > ϵ)\n",
        "        if(φ(u)< φ(v))\n",
        "            b = v\n",
        "            v = u\n",
        "            u = a + θ_1*(b - a)\n",
        "        else\n",
        "            a = u\n",
        "            u = v\n",
        "            v = a + θ_2*(b - a)\n",
        "        end\n",
        "    end\n",
        "    return (u+v)/2\n",
        "end"
      ],
      "execution_count": null,
      "outputs": [
        {
          "output_type": "execute_result",
          "data": {
            "text/plain": [
              "secao_aurea (generic function with 2 methods)"
            ]
          },
          "metadata": {
            "tags": []
          },
          "execution_count": 16
        }
      ]
    },
    {
      "cell_type": "code",
      "metadata": {
        "id": "5X4cW_HkGR8I",
        "colab_type": "code",
        "colab": {
          "base_uri": "https://localhost:8080/",
          "height": 35
        },
        "outputId": "f6448377-a039-4449-c8d1-fa409f8b9582"
      },
      "source": [
        "#exemplo 4.5 livro\n",
        "linear_search(x->0.5*(x[1]-2)^2 + (x[2] - 1)^2 ,[1,0],[3,1],secao_aurea)"
      ],
      "execution_count": null,
      "outputs": [
        {
          "output_type": "execute_result",
          "data": {
            "text/plain": [
              "(0.36363636363636365, [2.363636358633485, 0.45454545287782844])"
            ]
          },
          "metadata": {
            "tags": []
          },
          "execution_count": 17
        }
      ]
    },
    {
      "cell_type": "markdown",
      "metadata": {
        "id": "gLPeDnuGGObr",
        "colab_type": "text"
      },
      "source": [
        "<h1>Método de Newton</h1>"
      ]
    },
    {
      "cell_type": "code",
      "metadata": {
        "id": "eEwijxbiGUFJ",
        "colab_type": "code",
        "colab": {
          "base_uri": "https://localhost:8080/",
          "height": 35
        },
        "outputId": "9f332145-554f-4130-e0ce-7a1d0a884873"
      },
      "source": [
        "function newton(f::Function,x::Vector,d::Vector;φ::Function = y->f(x+y*d),t::Float64=0.25,ϵ = 1e-9,n_iter=10000)::Float64\n",
        "   iter = 0\n",
        "   while (abs(Df(φ,t)) > ϵ && iter < n_iter)\n",
        "         t = t - (Df(φ,t)/D_2f(φ,t))\n",
        "         iter = iter + 1\n",
        "   end \n",
        "   return t\n",
        "end"
      ],
      "execution_count": null,
      "outputs": [
        {
          "output_type": "execute_result",
          "data": {
            "text/plain": [
              "newton (generic function with 1 method)"
            ]
          },
          "metadata": {
            "tags": []
          },
          "execution_count": 8
        }
      ]
    },
    {
      "cell_type": "code",
      "metadata": {
        "id": "I5_eBnxZGYgQ",
        "colab_type": "code",
        "colab": {
          "base_uri": "https://localhost:8080/",
          "height": 35
        },
        "outputId": "d052ba8e-0b54-4be9-c113-dabad991d42b"
      },
      "source": [
        "linear_search(x->0.5*(x[1]-2)^2 + (x[2] - 1)^2 ,[1,0],[3,1],newton)"
      ],
      "execution_count": null,
      "outputs": [
        {
          "output_type": "execute_result",
          "data": {
            "text/plain": [
              "(0.36363636363636365, [2.3636363636363638, 0.4545454545454546])"
            ]
          },
          "metadata": {
            "tags": []
          },
          "execution_count": 9
        }
      ]
    },
    {
      "cell_type": "markdown",
      "metadata": {
        "id": "Cac4v-dWGWF0",
        "colab_type": "text"
      },
      "source": [
        "<h1> Método de Armijo </h1>"
      ]
    },
    {
      "cell_type": "code",
      "metadata": {
        "id": "FDJk_iEGGazw",
        "colab_type": "code",
        "colab": {
          "base_uri": "https://localhost:8080/",
          "height": 35
        },
        "outputId": "10519c29-6176-472b-9676-152c15a9e966"
      },
      "source": [
        "function armijo(f::Function,x::Vector,d::Vector;φ::Function = y->f(x+y*d),t::Float64= 1.0,η::Float64 = 0.25)\n",
        "    # f(x + td) > f(x) +t(∇f(x)⋅ d)\n",
        "    while (φ(t)>φ(0)+ η*t*(∇(f,x)⋅d))\n",
        "      t *=0.8\n",
        "    end\n",
        "    return t\n",
        "end"
      ],
      "execution_count": null,
      "outputs": [
        {
          "output_type": "execute_result",
          "data": {
            "text/plain": [
              "armijo (generic function with 1 method)"
            ]
          },
          "metadata": {
            "tags": []
          },
          "execution_count": 10
        }
      ]
    },
    {
      "cell_type": "code",
      "metadata": {
        "id": "tIdDjJuoGhkD",
        "colab_type": "code",
        "colab": {
          "base_uri": "https://localhost:8080/",
          "height": 35
        },
        "outputId": "745cd447-a103-442e-e02c-452b7b7bb7f6"
      },
      "source": [
        "#exemplo 4.10 livro\n",
        "linear_search(x->0.5*(x[1]-2)^2 + (x[2] - 1)^2 ,[1,0],[3,1],armijo)"
      ],
      "execution_count": null,
      "outputs": [
        {
          "output_type": "execute_result",
          "data": {
            "text/plain": [
              "(0.5528000000000003, [2.9200000000000004, 0.6400000000000001])"
            ]
          },
          "metadata": {
            "tags": []
          },
          "execution_count": 11
        }
      ]
    },
    {
      "cell_type": "markdown",
      "metadata": {
        "id": "U9QR0CZPGo4O",
        "colab_type": "text"
      },
      "source": [
        "# Modo de Usar\n",
        "\n",
        "   Sejam os dados de entrada $x \\in \\mathcal{R}^n,d \\in \\mathcal{R}^n,f: \\mathcal{R}^n \\to \\mathcal{R}$. Onde $x$ representa as variáveis de decisão, $f$ a função objetivo e $d$ um vetor direção de descida. Vamos mostrar como chamar os métodos de busca linear para resolver o problema de encontrar um tamanho de passo $\\alpha$ tal que $f(x + \\alpha d) < f(x)$.Para tanto, iremos utilizar a função chamadora linear_search(). Nessa inserimos os dados de entrada em conjunto com a função para um método de busca linear.\n",
        "\n",
        "\n",
        "   Considere o seguinte exemplo, seja $f(x_1,x_2)= \\frac{1}{2}(x_1 - 2)^2 + (x_2 - 1)^2$, $x = \\begin{pmatrix}1 \\\\0\\end{pmatrix}$ e $d  = \\begin{pmatrix}3 \\\\1\\end{pmatrix}$. Esses podem ser passados para linear_search da seguinte forma:\n",
        " \n",
        "\n",
        "\n"
      ]
    },
    {
      "cell_type": "code",
      "metadata": {
        "id": "oaPobGoBGrnm",
        "colab_type": "code",
        "colab": {
          "base_uri": "https://localhost:8080/",
          "height": 35
        },
        "outputId": "75222319-1988-48bb-f310-c87570a2ee75"
      },
      "source": [
        "linear_search(x->0.5*(x[1]-2)^2 + (x[2] - 1)^2 ,[1,0],[3,1],secao_aurea)"
      ],
      "execution_count": null,
      "outputs": [
        {
          "output_type": "execute_result",
          "data": {
            "text/plain": [
              "(0.36363636363636365, [2.363636358633485, 0.45454545287782844])"
            ]
          },
          "metadata": {
            "tags": []
          },
          "execution_count": 12
        }
      ]
    },
    {
      "cell_type": "markdown",
      "metadata": {
        "id": "haLElc1BHRR-",
        "colab_type": "text"
      },
      "source": [
        "\n",
        "\n",
        "   Onde o primeiro campo da função implementa uma função anônima para representar $f(x)$, com formato <i>(vetores)$\\to$ (função expressa)</i>. Devemos utilizar de operações aritméticas padrões sobre um vetor[$i$], que refere-se a coordenada $i$ do vetor(em julia começa de 1 até n), para expressar $f(x)$. Os dois campos seguidos de linear_search fazem referência aos $x,d$ implementados com Array's([$x_1$,$x_2$] e [$d_1$,$d_2$]). \n",
        "\n",
        "  No último campo temos uma função referenciando o método(no caso seção aurea) usado, temos três referências implementadas secao_aurea, armijo e newton. Elas podem ser chamados da mesma forma do exemplo anterior, que utiliza parâmetros definidos pelo livro-texto da disciplina, ou podemos utilizar funções anonimas para chamar um método customizado da forma <i>$(f,x,d)->$method($f$,$x$,$d$,parametros_adicionais)</i>. Veja o exemplo customizado:\n",
        "\n",
        "\n",
        "\n",
        "\n",
        "\n"
      ]
    },
    {
      "cell_type": "code",
      "metadata": {
        "id": "VyOJTPwVHipa",
        "colab_type": "code",
        "colab": {
          "base_uri": "https://localhost:8080/",
          "height": 35
        },
        "outputId": "59cab9f9-e4dd-4216-e7c9-88212f6b7c55"
      },
      "source": [
        "linear_search(x->0.5*(x[1]-2)^2 + (x[2] - 1)^2 ,[1,0],[3,1],(f,x,d)->armijo(f,x,d,t=0.7,η = 0.5))"
      ],
      "execution_count": null,
      "outputs": [
        {
          "output_type": "execute_result",
          "data": {
            "text/plain": [
              "(0.363872, [2.344, 0.44799999999999995])"
            ]
          },
          "metadata": {
            "tags": []
          },
          "execution_count": 13
        }
      ]
    },
    {
      "cell_type": "markdown",
      "metadata": {
        "id": "5Ogm8fHEIAAJ",
        "colab_type": "text"
      },
      "source": [
        " Na proxima seção discutimos os parâmetros para cada método. A saída do método linear_search retorna uma tupla da forma ($f(x+αd),x+αd$), ou seja, o valor da função objetivo no melhor ponto encontrado e o ponto."
      ]
    },
    {
      "cell_type": "markdown",
      "metadata": {
        "id": "LClOJmzQIP4b",
        "colab_type": "text"
      },
      "source": [
        "# Parâmetros dos Métodos\n",
        "\n",
        "   Aqui colocaremos as funções de métodos de busca linear implementado e a descrição sobre seus parâmetros. Parametros depois do caracter \";\" são chamados de argumentos palavra-chave. Esses devem vir depois dos argumentos posicionais e da forma (palavra-chave) = valor. Algumas palavras-chave estão em unicode para acessar estas no julia basta escrever da mesma forma que em latex(ex. \\epsilon) e pressionar a tecla 'tab', ou seja , $\\epsilon$ = \\epsilona + tab."
      ]
    },
    {
      "cell_type": "markdown",
      "metadata": {
        "id": "kQSMLQYkN5vQ",
        "colab_type": "text"
      },
      "source": [
        "\n",
        "secao_aurea(f::Function, x::Vector, d::Vector; φ::Function = t->f(x+t*d), ρ = 1/2, ϵ = 1e-9)\n",
        ">  Algoritmo de busca unidimensional exata usando seção aurea para fazer um busca dentro de um intervalo unimodal. Implementa automaticamente um método para tentar encontrar um intervalo unimodal inicial. Caso este não for unimodal não a garantia se o método é exato.\n",
        "*  φ(\\varphi) - função unidimensional definida sobre $f(x)$ que queremos otimizar.\n",
        "*  ρ(\\rho) - valor utilizado para estimar o intervalo inicial (0,2ρ).\n",
        "*  ϵ(\\epsilon) -  tolerância utilizada para verificar convergencia. Quanto maior mais rapido converge porém com menor precisão. \n",
        "\n",
        "\n",
        "---\n",
        "\n",
        "secao_aurea(f::Function,x::Vector,d::Vector,(a,b)::Tuple{Float64,Float64}; φ::Function = t->f(x+t*d),ρ = 1/2,ϵ = 1e-9)\n",
        "> Algoritmo de busca unidimensional exata usando seção aurea para fazer um busca dentro de um intervalo unimodal. Possui como parâmetro inicial uma tupla com o intervalo inicial($a <  b$). Caso este não for unimodal não a garantia se o método é exato.\n",
        "*  φ(\\varphi) - função unidimensional definida sobre $f(x)$ que queremos otimizar.\n",
        "*  ρ(\\rho) - valor utilizado para estimar o intervalo inicial (0,2ρ).\n",
        "*  ϵ(\\epsilon) -  tolerância utilizada para verificar convergencia. Quanto maior mais rapido converge porém com menor precisão. \n",
        "\n",
        "---\n",
        "newton(f::Function, x::Vector, d::Vector; φ::Function = y->f(x+y*d), t::Float64=0.25, ϵ = 1e-9, n_iter=10000)::Float64\n",
        "\n",
        "> Algoritmo de busca unidimensional usando método de newton para fazer um busca a partir de um tamanho de passo inicial t. Caso este não esteja perto o suficiente do ótimo não a garantia se o método converge.\n",
        "*  φ(\\varphi) - função unidimensional definida sobre $f(x)$ que queremos otimizar.\n",
        "*  t - passo inicial usado.\n",
        "*  ϵ(\\epsilon) -  tolerância utilizada para verificar convergencia. Quanto maior mais rapido converge porém com menor precisão. \n",
        "* n_iter - número máximo de iterações que o método pode executar.\n",
        "\n",
        "---\n",
        "armijo(f::Function,x::Vector,d::Vector;φ::Function = y->f(x+y*d),t::Float64= 1.0,η::Float64 = 0.25)\n",
        "> Algoritmo de busca unidimensional usando condição de armijo para fazer um busca a partir de um tamanho de passo inicial t. Não garanti proximidade a um minimizador global, porém converge rapidamente.\n",
        "\n",
        "*  φ(\\varphi) - função unidimensional definida sobre $f(x)$ que queremos otimizar.\n",
        "*  t - tamanho de passo inicial usado.\n",
        "*  η(\\eta) -  fator de redução usado.\n",
        "---\n",
        "\n",
        "\n",
        "\n",
        "\n"
      ]
    },
    {
      "cell_type": "markdown",
      "metadata": {
        "id": "BftQ8HyFXRkJ",
        "colab_type": "text"
      },
      "source": [
        "Todos os métodos retornam um tamanho de passo como um ponto flutuante."
      ]
    },
    {
      "cell_type": "markdown",
      "metadata": {
        "id": "iU2IfTTKIiHm",
        "colab_type": "text"
      },
      "source": [
        "<h1>Testes</h1>"
      ]
    },
    {
      "cell_type": "markdown",
      "metadata": {
        "id": "oKuKrqWzIkGo",
        "colab_type": "text"
      },
      "source": [
        "<h3>primeiro dados de teste</h3>"
      ]
    },
    {
      "cell_type": "code",
      "metadata": {
        "id": "r7OMNKRKHlAi",
        "colab_type": "code",
        "colab": {
          "base_uri": "https://localhost:8080/",
          "height": 72
        },
        "outputId": "9f20b12c-00b4-4e61-bd2e-8ab25363029a"
      },
      "source": [
        "f1 = x-> (x[1]-2)^4 + (x[1] - 2*x[2])^2\n",
        "x0 = [0,3]\n",
        "d0 = -∇(f1,x0)"
      ],
      "execution_count": null,
      "outputs": [
        {
          "output_type": "execute_result",
          "data": {
            "text/plain": [
              "2-element Array{Int64,1}:\n",
              "  44\n",
              " -24"
            ]
          },
          "metadata": {
            "tags": []
          },
          "execution_count": 18
        }
      ]
    },
    {
      "cell_type": "markdown",
      "metadata": {
        "id": "rgoS0KoSIoeq",
        "colab_type": "text"
      },
      "source": [
        "Método de busca exata seção áurea"
      ]
    },
    {
      "cell_type": "code",
      "metadata": {
        "id": "xWUaT8ZoIo1_",
        "colab_type": "code",
        "colab": {
          "base_uri": "https://localhost:8080/",
          "height": 35
        },
        "outputId": "76c13b0a-5909-496f-968b-a6ff2453243d"
      },
      "source": [
        "linear_search(f1,x0,d0,secao_aurea)"
      ],
      "execution_count": null,
      "outputs": [
        {
          "output_type": "execute_result",
          "data": {
            "text/plain": [
              "(0.3653851152608548, [2.707533345633471, 1.5231636296544704])"
            ]
          },
          "metadata": {
            "tags": []
          },
          "execution_count": 19
        }
      ]
    },
    {
      "cell_type": "markdown",
      "metadata": {
        "id": "aibSgjfXIspF",
        "colab_type": "text"
      },
      "source": [
        "Método de Newton"
      ]
    },
    {
      "cell_type": "code",
      "metadata": {
        "id": "skkHGFGqIzj2",
        "colab_type": "code",
        "colab": {
          "base_uri": "https://localhost:8080/",
          "height": 35
        },
        "outputId": "fee489c7-abf1-49e2-97a3-d1b6c9a769d0"
      },
      "source": [
        "linear_search(f1,x0,d0,newton)"
      ],
      "execution_count": null,
      "outputs": [
        {
          "output_type": "execute_result",
          "data": {
            "text/plain": [
              "(0.3653851152608547, [2.7075333493476896, 1.523163627628533])"
            ]
          },
          "metadata": {
            "tags": []
          },
          "execution_count": 20
        }
      ]
    },
    {
      "cell_type": "markdown",
      "metadata": {
        "id": "4S_RKcPfIwD1",
        "colab_type": "text"
      },
      "source": [
        "Método de armijo"
      ]
    },
    {
      "cell_type": "code",
      "metadata": {
        "id": "MllNtvBGI5Jl",
        "colab_type": "code",
        "colab": {
          "base_uri": "https://localhost:8080/",
          "height": 35
        },
        "outputId": "ab2ee603-f46a-453e-bce0-6f4d77bc3a18"
      },
      "source": [
        "linear_search(f1,x0,d0,armijo)"
      ],
      "execution_count": null,
      "outputs": [
        {
          "output_type": "execute_result",
          "data": {
            "text/plain": [
              "(1.2018466871483395, [3.023656976384002, 1.350732558335999])"
            ]
          },
          "metadata": {
            "tags": []
          },
          "execution_count": 21
        }
      ]
    },
    {
      "cell_type": "markdown",
      "metadata": {
        "id": "tosPc_nzI7gt",
        "colab_type": "text"
      },
      "source": [
        "<h3>segundo dados de teste</h3>"
      ]
    },
    {
      "cell_type": "code",
      "metadata": {
        "id": "Wy3JW0cGI-iI",
        "colab_type": "code",
        "colab": {
          "base_uri": "https://localhost:8080/",
          "height": 72
        },
        "outputId": "41972d79-2e17-4c5c-b9e2-94e74af33b7b"
      },
      "source": [
        "f2 = x-> 100*(x[2]-(x[1])^2)^2 + (1 - x[1])^2\n",
        "x0 = [-1.9,2]\n",
        "d0 = -∇(f2,x0)"
      ],
      "execution_count": null,
      "outputs": [
        {
          "output_type": "execute_result",
          "data": {
            "text/plain": [
              "2-element Array{Float64,1}:\n",
              " 1229.3999999999999\n",
              "  322.0"
            ]
          },
          "metadata": {
            "tags": []
          },
          "execution_count": 23
        }
      ]
    },
    {
      "cell_type": "markdown",
      "metadata": {
        "id": "bWTqzoYTI8gK",
        "colab_type": "text"
      },
      "source": [
        "Método de busca exata seção áurea"
      ]
    },
    {
      "cell_type": "code",
      "metadata": {
        "id": "WIDqgLN_JBmV",
        "colab_type": "code",
        "colab": {
          "base_uri": "https://localhost:8080/",
          "height": 35
        },
        "outputId": "8bc511bb-6b61-4365-8358-8ff7e4a118f6"
      },
      "source": [
        "linear_search(f2,x0,d0,secao_aurea)"
      ],
      "execution_count": null,
      "outputs": [
        {
          "output_type": "execute_result",
          "data": {
            "text/plain": [
              "(0.5132451974405922, [1.7160553132339524, 2.9471041246635212])"
            ]
          },
          "metadata": {
            "tags": []
          },
          "execution_count": 24
        }
      ]
    },
    {
      "cell_type": "markdown",
      "metadata": {
        "id": "rejAXKTLJFCb",
        "colab_type": "text"
      },
      "source": [
        "Método de Newton"
      ]
    },
    {
      "cell_type": "code",
      "metadata": {
        "id": "XTKOYMlDJGMn",
        "colab_type": "code",
        "colab": {
          "base_uri": "https://localhost:8080/",
          "height": 35
        },
        "outputId": "d321c615-2b41-4770-a3f0-6862a600bc63"
      },
      "source": [
        "linear_search(f2,x0,d0,newton)"
      ],
      "execution_count": null,
      "outputs": [
        {
          "output_type": "execute_result",
          "data": {
            "text/plain": [
              "(0.5132451974225749, [1.7160551793785697, 2.9471040896046032])"
            ]
          },
          "metadata": {
            "tags": []
          },
          "execution_count": 25
        }
      ]
    },
    {
      "cell_type": "markdown",
      "metadata": {
        "id": "T9Z7LEPQJH0p",
        "colab_type": "text"
      },
      "source": [
        "Método de armijo"
      ]
    },
    {
      "cell_type": "code",
      "metadata": {
        "id": "Ecyz7V75JLSI",
        "colab_type": "code",
        "colab": {
          "base_uri": "https://localhost:8080/",
          "height": 35
        },
        "outputId": "3f8ceba2-27c9-4c26-b450-c2c5b5092b01"
      },
      "source": [
        "linear_search(f2,x0,d0,armijo)"
      ],
      "execution_count": null,
      "outputs": [
        {
          "output_type": "execute_result",
          "data": {
            "text/plain": [
              "(33.64676218894833, [-1.2766201408317648, 2.1632733973093963])"
            ]
          },
          "metadata": {
            "tags": []
          },
          "execution_count": 26
        }
      ]
    },
    {
      "cell_type": "markdown",
      "metadata": {
        "id": "o8fz0I4GJNGc",
        "colab_type": "text"
      },
      "source": [
        "<h3>terceiro dados de teste</h3>"
      ]
    },
    {
      "cell_type": "code",
      "metadata": {
        "id": "R6TM1NFZJOxI",
        "colab_type": "code",
        "colab": {
          "base_uri": "https://localhost:8080/",
          "height": 72
        },
        "outputId": "5a22b775-40cb-4acd-ecba-9d2437c3e3c8"
      },
      "source": [
        "f3 = x-> 1.5 - x[1]*(1-x[2])^2 + (2.25 - x[1]*(1-(x[2])^2))^2 +(2.625 - x[1]*(1-x[2]^3))^2\n",
        "x0 = [0,0]\n",
        "d0 = -∇(f3,x0)"
      ],
      "execution_count": null,
      "outputs": [
        {
          "output_type": "execute_result",
          "data": {
            "text/plain": [
              "2-element Array{Float64,1}:\n",
              " 10.75\n",
              " -0.0"
            ]
          },
          "metadata": {
            "tags": []
          },
          "execution_count": 28
        }
      ]
    },
    {
      "cell_type": "markdown",
      "metadata": {
        "id": "ADjPt7dfJQ4J",
        "colab_type": "text"
      },
      "source": [
        "Método de busca exata seção áurea"
      ]
    },
    {
      "cell_type": "code",
      "metadata": {
        "id": "o4SLRyGdJRnW",
        "colab_type": "code",
        "colab": {
          "base_uri": "https://localhost:8080/",
          "height": 35
        },
        "outputId": "f8a0b39a-1e08-4a53-f217-9c670cbadd1a"
      },
      "source": [
        "linear_search(f3,x0,d0,secao_aurea)"
      ],
      "execution_count": null,
      "outputs": [
        {
          "output_type": "execute_result",
          "data": {
            "text/plain": [
              "(-0.9921875, [2.687500003177064, 0.0])"
            ]
          },
          "metadata": {
            "tags": []
          },
          "execution_count": 29
        }
      ]
    },
    {
      "cell_type": "markdown",
      "metadata": {
        "id": "-qIEa49xJVEe",
        "colab_type": "text"
      },
      "source": [
        "Método de Newton"
      ]
    },
    {
      "cell_type": "code",
      "metadata": {
        "id": "HGb_B4DzJX9x",
        "colab_type": "code",
        "colab": {
          "base_uri": "https://localhost:8080/",
          "height": 35
        },
        "outputId": "4eb6094c-93b6-42b7-a548-fb6bfe339601"
      },
      "source": [
        "linear_search(f3,x0,d0,newton)"
      ],
      "execution_count": null,
      "outputs": [
        {
          "output_type": "execute_result",
          "data": {
            "text/plain": [
              "(-0.9921875, [2.6875, 0.0])"
            ]
          },
          "metadata": {
            "tags": []
          },
          "execution_count": 30
        }
      ]
    },
    {
      "cell_type": "markdown",
      "metadata": {
        "id": "oQCDM8P0JaWb",
        "colab_type": "text"
      },
      "source": [
        "Método de armijo"
      ]
    },
    {
      "cell_type": "code",
      "metadata": {
        "id": "3ObvfG9aJZlQ",
        "colab_type": "code",
        "colab": {
          "base_uri": "https://localhost:8080/",
          "height": 35
        },
        "outputId": "59f8b67e-2cc6-43e7-ea18-d01af1b12699"
      },
      "source": [
        "linear_search(f3,x0,d0,armijo)"
      ],
      "execution_count": null,
      "outputs": [
        {
          "output_type": "execute_result",
          "data": {
            "text/plain": [
              "(0.40246290720000555, [3.5225600000000017, 0.0])"
            ]
          },
          "metadata": {
            "tags": []
          },
          "execution_count": 31
        }
      ]
    },
    {
      "cell_type": "markdown",
      "metadata": {
        "id": "rAr3YYo5JerB",
        "colab_type": "text"
      },
      "source": [
        "<h3>quarto dados de teste</h3>"
      ]
    },
    {
      "cell_type": "code",
      "metadata": {
        "id": "pQlqIyu4Jgqy",
        "colab_type": "code",
        "colab": {
          "base_uri": "https://localhost:8080/",
          "height": 72
        },
        "outputId": "95eadb86-bb6c-4ccb-d03a-1b958d7d4797"
      },
      "source": [
        "f4 = x-> (x[1] - 2*x[2]+5*x[2]^2 - x[2]^3 -13)^2 + (x[1] - 14*x[2] + x[2]^2 + x[2]^3 -29)^2\n",
        "x0 = [15,-2]\n",
        "d0 = -∇(f4,x0)"
      ],
      "execution_count": null,
      "outputs": [
        {
          "output_type": "execute_result",
          "data": {
            "text/plain": [
              "2-element Array{Int64,1}:\n",
              "  -88\n",
              " 2432"
            ]
          },
          "metadata": {
            "tags": []
          },
          "execution_count": 32
        }
      ]
    },
    {
      "cell_type": "markdown",
      "metadata": {
        "id": "bB_3zlgLJhiL",
        "colab_type": "text"
      },
      "source": [
        "Método de busca exata seção áurea"
      ]
    },
    {
      "cell_type": "code",
      "metadata": {
        "id": "9FLCMPotJjs6",
        "colab_type": "code",
        "colab": {
          "base_uri": "https://localhost:8080/",
          "height": 35
        },
        "outputId": "3a9822bd-e6a1-44fb-cbd2-67ca1e469eba"
      },
      "source": [
        "linear_search(f4,x0,d0,secao_aurea)"
      ],
      "execution_count": null,
      "outputs": [
        {
          "output_type": "execute_result",
          "data": {
            "text/plain": [
              "(54.449342510155596, [14.952295930264228, -0.6816329818477422])"
            ]
          },
          "metadata": {
            "tags": []
          },
          "execution_count": 34
        }
      ]
    },
    {
      "cell_type": "markdown",
      "metadata": {
        "id": "ySWP920hJorK",
        "colab_type": "text"
      },
      "source": [
        "Método de Newton"
      ]
    },
    {
      "cell_type": "code",
      "metadata": {
        "id": "--_TwXMXJpRT",
        "colab_type": "code",
        "colab": {
          "base_uri": "https://localhost:8080/",
          "height": 54
        },
        "outputId": "27fb6b02-cc1a-4180-f6e8-9c9728d7bfbb"
      },
      "source": [
        "println(linear_search(f4,x0,d0,newton))\n",
        "print(linear_search(f4,x0,d0,(f,x,d)->newton(f,x,d,t = 0.0001)))"
      ],
      "execution_count": null,
      "outputs": [
        {
          "output_type": "stream",
          "text": [
            "(136.12522866780478, [14.789735317977993, 3.8109512122445723])\n",
            "(54.44934251014155, [14.952295937106829, -0.6816331709523435])"
          ],
          "name": "stdout"
        }
      ]
    },
    {
      "cell_type": "markdown",
      "metadata": {
        "id": "wSZdYUB3JxDQ",
        "colab_type": "text"
      },
      "source": [
        "Método de armijo"
      ]
    },
    {
      "cell_type": "code",
      "metadata": {
        "id": "W1tzFIfWJwF-",
        "colab_type": "code",
        "colab": {
          "base_uri": "https://localhost:8080/",
          "height": 35
        },
        "outputId": "618e02d2-5f6a-439b-de4f-117aa4239c52"
      },
      "source": [
        "linear_search(f4,x0,d0,armijo)"
      ],
      "execution_count": null,
      "outputs": [
        {
          "output_type": "execute_result",
          "data": {
            "text/plain": [
              "(72.65870189464304, [14.944223373589958, -0.45853687012247035])"
            ]
          },
          "metadata": {
            "tags": []
          },
          "execution_count": 36
        }
      ]
    },
    {
      "cell_type": "markdown",
      "metadata": {
        "id": "N_1-q7VOJ_VS",
        "colab_type": "text"
      },
      "source": [
        "<h3>quinto dados de teste</h3>"
      ]
    },
    {
      "cell_type": "code",
      "metadata": {
        "id": "Y6XlJ6cjJ__h",
        "colab_type": "code",
        "colab": {
          "base_uri": "https://localhost:8080/",
          "height": 90
        },
        "outputId": "9e47d4eb-5808-4ca4-f8c5-c3c79ac14b4d"
      },
      "source": [
        "f5 = x-> 100*(x[3] - ((x[1]+x[2])/2)^2)^2 + (1-x[1])^2 + (1-x[2])^2\n",
        "x0 = [-1.2,2,0]\n",
        "d0 = -∇(f5,x0)"
      ],
      "execution_count": null,
      "outputs": [
        {
          "output_type": "execute_result",
          "data": {
            "text/plain": [
              "3-element Array{Float64,1}:\n",
              "  -8.400000000000002\n",
              " -14.800000000000002\n",
              "  32.00000000000001"
            ]
          },
          "metadata": {
            "tags": []
          },
          "execution_count": 37
        }
      ]
    },
    {
      "cell_type": "markdown",
      "metadata": {
        "id": "vp6EdWUsKBro",
        "colab_type": "text"
      },
      "source": [
        "Método de busca exata seção áurea"
      ]
    },
    {
      "cell_type": "code",
      "metadata": {
        "id": "1evM6q0gKDov",
        "colab_type": "code",
        "colab": {
          "base_uri": "https://localhost:8080/",
          "height": 35
        },
        "outputId": "5282895d-bfa8-492b-d365-a10a127ff49d"
      },
      "source": [
        "linear_search(f5,x0,d0,secao_aurea)"
      ],
      "execution_count": null,
      "outputs": [
        {
          "output_type": "execute_result",
          "data": {
            "text/plain": [
              "(34.579084112692456, [-3.7391888342040716, -2.473808898359554, 9.673100320777413])"
            ]
          },
          "metadata": {
            "tags": []
          },
          "execution_count": 38
        }
      ]
    },
    {
      "cell_type": "code",
      "metadata": {
        "id": "ziXQk4chbBWd",
        "colab_type": "code",
        "colab": {
          "base_uri": "https://localhost:8080/",
          "height": 417
        },
        "outputId": "9c288157-9f94-4d5b-dd2a-03d5e82d2560"
      },
      "source": [
        "plot(h->f5(x0+h*d0),0,10)"
      ],
      "execution_count": null,
      "outputs": [
        {
          "output_type": "execute_result",
          "data": {
            "image/png": "[encoded data removed]"
          },
          "metadata": {
            "tags": []
          },
          "execution_count": 47
        }
      ]
    },
    {
      "cell_type": "code",
      "metadata": {
        "id": "jd-ZA33ba3JP",
        "colab_type": "code",
        "colab": {
          "base_uri": "https://localhost:8080/",
          "height": 417
        },
        "outputId": "1f0c668d-4c38-4398-fe8e-07c319d951ee"
      },
      "source": [
        "plot(h->f5(x0+h*d0),0,1)"
      ],
      "execution_count": null,
      "outputs": [
        {
          "output_type": "execute_result",
          "data": {
            "image/png": "[encoded data removed]"
          },
          "metadata": {
            "tags": []
          },
          "execution_count": 45
        }
      ]
    },
    {
      "cell_type": "code",
      "metadata": {
        "id": "g9zVqQcdayPU",
        "colab_type": "code",
        "colab": {
          "base_uri": "https://localhost:8080/",
          "height": 417
        },
        "outputId": "7c31a813-8171-4bc2-ecdf-706fa4f2dadd"
      },
      "source": [
        "plot(h->f5(x0+h*d0),0,0.1)"
      ],
      "execution_count": null,
      "outputs": [
        {
          "output_type": "execute_result",
          "data": {
            "image/png": "[encoded data removed]"
          },
          "metadata": {
            "tags": []
          },
          "execution_count": 46
        }
      ]
    },
    {
      "cell_type": "code",
      "metadata": {
        "id": "CXWSbVkmKU6o",
        "colab_type": "code",
        "colab": {
          "base_uri": "https://localhost:8080/",
          "height": 417
        },
        "outputId": "76f1bfd3-a603-4da8-985c-62f2ef3b3b37"
      },
      "source": [
        "plot(h->f5(x0+h*d0),0,0.01)"
      ],
      "execution_count": null,
      "outputs": [
        {
          "output_type": "execute_result",
          "data": {
            "image/png": "[encoded data removed]"
          },
          "metadata": {
            "tags": []
          },
          "execution_count": 39
        }
      ]
    },
    {
      "cell_type": "code",
      "metadata": {
        "id": "jHyrEfh6KRTB",
        "colab_type": "code",
        "colab": {
          "base_uri": "https://localhost:8080/",
          "height": 35
        },
        "outputId": "db2c93d1-3736-4828-d2c3-8c6c5bb0b507"
      },
      "source": [
        "linear_search(f5,x0,d0,(f,x,d)->secao_aurea(f,x,d,(0.0,1e-2)))"
      ],
      "execution_count": null,
      "outputs": [
        {
          "output_type": "execute_result",
          "data": {
            "text/plain": [
              "(5.8732180672986045, [-1.2327306570882732, 1.9423316994158994, 0.12468821747913622])"
            ]
          },
          "metadata": {
            "tags": []
          },
          "execution_count": 40
        }
      ]
    },
    {
      "cell_type": "markdown",
      "metadata": {
        "id": "WcuHcVzQKNJC",
        "colab_type": "text"
      },
      "source": [
        "Método de Newton\n",
        "\n"
      ]
    },
    {
      "cell_type": "code",
      "metadata": {
        "id": "xJ-rw-0yKbXC",
        "colab_type": "code",
        "colab": {
          "base_uri": "https://localhost:8080/",
          "height": 35
        },
        "outputId": "d27e1a2c-19d8-49f6-bedf-f0becfe8078f"
      },
      "source": [
        "linear_search(f5,x0,d0,newton)"
      ],
      "execution_count": null,
      "outputs": [
        {
          "output_type": "execute_result",
          "data": {
            "text/plain": [
              "(34.579084112692456, [-3.7391888351214044, -2.4738088999758068, 9.673100324272015])"
            ]
          },
          "metadata": {
            "tags": []
          },
          "execution_count": 41
        }
      ]
    },
    {
      "cell_type": "code",
      "metadata": {
        "id": "w2j8D2QvXsDO",
        "colab_type": "code",
        "colab": {
          "base_uri": "https://localhost:8080/",
          "height": 35
        },
        "outputId": "0eaca5db-d796-4d5b-9dbc-c9c221dacfc0"
      },
      "source": [
        "linear_search(f5,x0,d0,(f,x,d)->newton(f,x,d,t=0.01))"
      ],
      "execution_count": null,
      "outputs": [
        {
          "output_type": "execute_result",
          "data": {
            "text/plain": [
              "(5.8732180672986045, [-1.232730656798366, 1.9423316999266886, 0.12468821637472749])"
            ]
          },
          "metadata": {
            "tags": []
          },
          "execution_count": 43
        }
      ]
    },
    {
      "cell_type": "markdown",
      "metadata": {
        "id": "Vs5Z9821KcQs",
        "colab_type": "text"
      },
      "source": [
        "Método de armijo"
      ]
    },
    {
      "cell_type": "code",
      "metadata": {
        "id": "is8nB4rhKhIn",
        "colab_type": "code",
        "colab": {
          "base_uri": "https://localhost:8080/",
          "height": 35
        },
        "outputId": "0ad82376-e466-41b3-8de1-0ac8f56a6880"
      },
      "source": [
        "linear_search(f5,x0,d0,armijo)"
      ],
      "execution_count": null,
      "outputs": [
        {
          "output_type": "execute_result",
          "data": {
            "text/plain": [
              "(5.983221692235954, [-1.239667878456105, 1.930108976053529, 0.15111572745182889])"
            ]
          },
          "metadata": {
            "tags": []
          },
          "execution_count": 42
        }
      ]
    }
  ]
}